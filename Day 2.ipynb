{
 "cells": [
  {
   "cell_type": "code",
   "execution_count": 50,
   "id": "ca845714",
   "metadata": {},
   "outputs": [],
   "source": [
    "file = open('input2.txt', 'r')\n",
    "lines = file.readlines()"
   ]
  },
  {
   "cell_type": "code",
   "execution_count": 51,
   "id": "e495fb13",
   "metadata": {},
   "outputs": [],
   "source": [
    "oppmoves = {\n",
    "    'A': 'Rock',\n",
    "    'B': 'Paper',\n",
    "    'C': 'Scissors'\n",
    "}\n",
    "\n",
    "responses = {\n",
    "    'X': 'Rock',\n",
    "    'Y': 'Paper',\n",
    "    'Z': 'Scissors'\n",
    "}\n",
    "\n",
    "def is_win(opp, res):\n",
    "    if opp == res:\n",
    "        return 'Draw'\n",
    "    elif opp == 'Rock':\n",
    "        if res == 'Paper':\n",
    "            return 'Win'\n",
    "        else:\n",
    "            return 'Loss'\n",
    "    elif opp == 'Paper':\n",
    "        if res == 'Scissors':\n",
    "            return 'Win'\n",
    "        else:\n",
    "            return 'Loss'\n",
    "    elif opp == 'Scissors':\n",
    "        if res == 'Rock':\n",
    "            return 'Win'\n",
    "        else:\n",
    "            return 'Loss'\n",
    "\n",
    "def get_score(opp, res):\n",
    "    points = {\n",
    "    'Rock': 1,\n",
    "    'Paper': 2,\n",
    "    'Scissors': 3\n",
    "    }\n",
    "    \n",
    "    total = 0\n",
    "    pickpoints = points[res]\n",
    "    \n",
    "    if is_win(opp, res) == 'Win':\n",
    "        bonus = 6\n",
    "    elif is_win(opp, res) == 'Loss':\n",
    "        bonus = 0\n",
    "    elif is_win(opp, res) == 'Draw':\n",
    "        bonus = 3\n",
    "        \n",
    "    total = pickpoints + bonus\n",
    "    \n",
    "    return total\n",
    "\n",
    "        "
   ]
  },
  {
   "cell_type": "code",
   "execution_count": 52,
   "id": "ba44133d",
   "metadata": {},
   "outputs": [
    {
     "name": "stdout",
     "output_type": "stream",
     "text": [
      "9177\n"
     ]
    }
   ],
   "source": [
    "score = 0\n",
    "\n",
    "for line in lines:\n",
    "    linesplit = line.split()\n",
    "    opp = linesplit[0]\n",
    "    res = linesplit[-1]\n",
    "    points = get_score(oppmoves[opp], respones[res])\n",
    "    score += points\n",
    "\n",
    "print(score)"
   ]
  },
  {
   "cell_type": "code",
   "execution_count": 59,
   "id": "b8ae3318",
   "metadata": {},
   "outputs": [],
   "source": [
    "file = open('input2.txt', 'r')\n",
    "lines = file.readlines()"
   ]
  },
  {
   "cell_type": "code",
   "execution_count": 60,
   "id": "bed775ee",
   "metadata": {},
   "outputs": [
    {
     "name": "stdout",
     "output_type": "stream",
     "text": [
      "12111\n"
     ]
    }
   ],
   "source": [
    "outcomes = {\n",
    "    'X': 'Loss',\n",
    "    'Y': 'Draw',\n",
    "    'Z': 'Win'\n",
    "}\n",
    "\n",
    "score = 0\n",
    "\n",
    "for line in lines:\n",
    "    linesplit = line.split()\n",
    "    opp = linesplit[0]\n",
    "    outcome = linesplit[-1]\n",
    "    \n",
    "    for move in responses.values():\n",
    "        if is_win(oppmoves[opp], move) == outcomes[outcome]:\n",
    "            res = move\n",
    "            points = get_score(oppmoves[opp], res)\n",
    "            score += points\n",
    "    \n",
    "print(score)"
   ]
  }
 ],
 "metadata": {
  "kernelspec": {
   "display_name": "Python 3",
   "language": "python",
   "name": "python3"
  },
  "language_info": {
   "codemirror_mode": {
    "name": "ipython",
    "version": 3
   },
   "file_extension": ".py",
   "mimetype": "text/x-python",
   "name": "python",
   "nbconvert_exporter": "python",
   "pygments_lexer": "ipython3",
   "version": "3.8.8"
  }
 },
 "nbformat": 4,
 "nbformat_minor": 5
}
