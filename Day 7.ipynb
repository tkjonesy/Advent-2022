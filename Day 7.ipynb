{
 "cells": [
  {
   "cell_type": "code",
   "execution_count": 1,
   "id": "03b8201f",
   "metadata": {},
   "outputs": [],
   "source": [
    "class Directory:\n",
    "    directories = []\n",
    "    def __init__(self, name , parent=None):\n",
    "        self.directories.append(self)\n",
    "        self.name = name\n",
    "        self.children = []\n",
    "        self.files = {}\n",
    "        self.parent = parent\n",
    "        self.total = 0\n",
    "        \n",
    "    def __str__(self):\n",
    "        return f'{self.name}'\n",
    "        \n",
    "    def new_child(self, new):\n",
    "        self.children.append(new)\n",
    "        \n",
    "    def new_file(self, file, size):\n",
    "        self.files[file] = size\n",
    "        \n",
    "    def add_size(self, size):\n",
    "        self.total += size"
   ]
  },
  {
   "cell_type": "code",
   "execution_count": 2,
   "id": "9260c2da",
   "metadata": {},
   "outputs": [],
   "source": [
    "base = Directory('base')"
   ]
  },
  {
   "cell_type": "code",
   "execution_count": 3,
   "id": "96c0c149",
   "metadata": {},
   "outputs": [],
   "source": [
    "file = open('input7.txt', 'r')\n",
    "lines = file.readlines()"
   ]
  },
  {
   "cell_type": "code",
   "execution_count": 34,
   "id": "1c0af09b",
   "metadata": {},
   "outputs": [],
   "source": [
    "current = base\n",
    "for line in lines:\n",
    "    line = line.replace('\\n', '')\n",
    "    if ' ls' in line:\n",
    "        continue\n",
    "    elif '$ cd ' in line:\n",
    "        linesplit = line.split()\n",
    "        destination = linesplit[-1]\n",
    "        if destination == \"..\":\n",
    "            current = current.parent\n",
    "        elif destination == '/':\n",
    "            current = base\n",
    "        else:\n",
    "            filtered_objects = filter(lambda x: x.name == destination, Directory.directories)\n",
    "            for obj in filtered_objects:\n",
    "                current = obj\n",
    "    elif 'dir' in line:\n",
    "        linesplit = line.split()\n",
    "        destination = linesplit[-1]\n",
    "        new = Directory(destination, parent=current)\n",
    "        current.new_child(new)\n",
    "            \n",
    "            \n",
    "    elif line[0].isdigit():\n",
    "        linesplit = line.split()\n",
    "        filename = linesplit[-1]\n",
    "        size = int(linesplit[0])\n",
    "        current.add_size(size)\n",
    "        folder = current\n",
    "        cont = True\n",
    "        while cont:\n",
    "            if folder.parent is None:\n",
    "                cont = False\n",
    "            else:\n",
    "                folder = folder.parent\n",
    "                folder.add_size(size)\n",
    "            "
   ]
  },
  {
   "cell_type": "code",
   "execution_count": 35,
   "id": "ba82e709",
   "metadata": {},
   "outputs": [
    {
     "name": "stdout",
     "output_type": "stream",
     "text": [
      "1367870\n"
     ]
    }
   ],
   "source": [
    "total = 0\n",
    "for folder in Directory.directories:\n",
    "#     print(folder.name, folder.total)\n",
    "    if folder.total < 100000:\n",
    "        total += folder.total\n",
    "        \n",
    "print(total)"
   ]
  },
  {
   "cell_type": "code",
   "execution_count": 36,
   "id": "33d1acea",
   "metadata": {},
   "outputs": [
    {
     "name": "stdout",
     "output_type": "stream",
     "text": [
      "29471329\n",
      "528671\n"
     ]
    }
   ],
   "source": [
    "free_space = 70000000 - base.total\n",
    "print(free_space)\n",
    "space_needed = 30000000 - free_space\n",
    "print(space_needed)\n",
    "biggest = {}\n",
    "for folder in Directory.directories:\n",
    "    if folder.total >= space_needed:\n",
    "        biggest[folder.name] = folder.total"
   ]
  },
  {
   "cell_type": "code",
   "execution_count": 37,
   "id": "0104d757",
   "metadata": {},
   "outputs": [
    {
     "name": "stdout",
     "output_type": "stream",
     "text": [
      "[('ljqjtdmf', 549173), ('ccwmftsj', 562273), ('dnznpj', 569823), ('chvgwnt', 581421), ('lfdbzfl', 582278), ('hqb', 620184), ('pwmppt', 627829), ('pwwsrjc', 647391), ('rqjs', 651384), ('ntnn', 653019), ('vcgv', 695419), ('dbbfz', 790752), ('lhgjrmj', 874427), ('gfznw', 918778), ('nhvgrzs', 930698), ('tls', 931903), ('tfdctq', 949220), ('nqftnn', 985873), ('brfnfhj', 1081145), ('hwhm', 1094042), ('lwnfc', 1109381), ('wspztvjr', 1150303), ('qtj', 1152234), ('hjgm', 1199273), ('csfssn', 1233693), ('bpst', 1273742), ('sgjtm', 1289346), ('lcwhfzjw', 1352063), ('shcvnqq', 1444864), ('drblq', 1563865), ('pvwhpfp', 1639303), ('lbccc', 1734729), ('rdpbbd', 1965365), ('dhfng', 2049487), ('wmct', 2221945), ('qtrv', 2275176), ('dfb', 2691979), ('ftrlfg', 3055563), ('dvvmhzcq', 3313753), ('vbzr', 3315553), ('jpfrhmw', 3429340), ('qnbq', 3650121), ('ncgffsr', 3931015), ('zgn', 6265038), ('jqfwd', 6347585), ('rjzjrbvs', 6864479), ('rqdngnrq', 8259599), ('vsd', 17665203), ('base', 40528671)]\n"
     ]
    }
   ],
   "source": [
    "sorted_big = sorted(biggest.items(), key=lambda x: x[1])\n",
    "print(sorted_big)"
   ]
  }
 ],
 "metadata": {
  "kernelspec": {
   "display_name": "Python 3",
   "language": "python",
   "name": "python3"
  },
  "language_info": {
   "codemirror_mode": {
    "name": "ipython",
    "version": 3
   },
   "file_extension": ".py",
   "mimetype": "text/x-python",
   "name": "python",
   "nbconvert_exporter": "python",
   "pygments_lexer": "ipython3",
   "version": "3.8.8"
  }
 },
 "nbformat": 4,
 "nbformat_minor": 5
}
