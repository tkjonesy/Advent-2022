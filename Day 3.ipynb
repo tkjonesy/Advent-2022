{
 "cells": [
  {
   "cell_type": "code",
   "execution_count": 67,
   "id": "a389d049",
   "metadata": {},
   "outputs": [],
   "source": [
    "file = open('input3.txt', 'r')\n",
    "lines = file.readlines()"
   ]
  },
  {
   "cell_type": "code",
   "execution_count": 8,
   "id": "4ff95ef5",
   "metadata": {},
   "outputs": [
    {
     "name": "stdout",
     "output_type": "stream",
     "text": [
      "vJrwpWtwJgW hcsFMMfFFhFp\n",
      "jqHRNqRjqzjGDLG rsFMfFZSrLrFZsSL\n",
      "PmmdzqPr vPwwTWBwg\n",
      "wMqvLMZHhHMvwL jbvcjnnSBnvTQFn\n",
      "ttgJtRG QctTZtZT\n",
      "CrZsJsPPZsG wwsLwLmpwMD\n",
      "157\n",
      "{'p': 16, 'L': 38, 'P': 42, 'v': 22, 't': 20, 's': 19}\n"
     ]
    }
   ],
   "source": [
    "repeats = {}\n",
    "\n",
    "def get_prio(char):\n",
    "    if char.isupper():\n",
    "        prio = int(ord(char)) - 38\n",
    "        return prio\n",
    "    else:\n",
    "        prio = int(ord(char)) - 96\n",
    "        return prio\n",
    "\n",
    "for line in lines:\n",
    "    half = int((len(line) / 2) - 1)\n",
    "    ruck1 = line[0:half]\n",
    "    ruck2 = line[(half + 1):-1]\n",
    "    \n",
    "    print(ruck1, ruck2)\n",
    "    \n",
    "    for char in ruck1:\n",
    "        if ruck2.count(char) > 0:\n",
    "            if char in repeats.keys():\n",
    "                new_value = int(repeats[char]) + int(get_prio(char))\n",
    "                repeats[char] = new_value\n",
    "                break\n",
    "            else:\n",
    "                repeats[char] = get_prio(char)\n",
    "                break\n",
    "print(sum(repeats.values()))\n",
    "print(repeats)"
   ]
  },
  {
   "cell_type": "code",
   "execution_count": 13,
   "id": "be47ed9b",
   "metadata": {},
   "outputs": [
    {
     "name": "stdout",
     "output_type": "stream",
     "text": [
      "2497\n"
     ]
    }
   ],
   "source": [
    "file = open('input3.2.txt', 'r')\n",
    "lines = file.readlines()\n",
    "active = []\n",
    "total = 0\n",
    "\n",
    "for index, line in enumerate(lines):\n",
    "    if line in active:\n",
    "        continue\n",
    "    elf1 = line\n",
    "    elf2 = lines[index + 1]\n",
    "    elf3 = lines[index + 2]\n",
    "    active.append(elf1)\n",
    "    active.append(elf2)\n",
    "    active.append(elf3)\n",
    "    \n",
    "    for char in line:\n",
    "        if char in elf2 and char in elf3:\n",
    "            total += get_prio(char)\n",
    "            break\n",
    "print(total)"
   ]
  }
 ],
 "metadata": {
  "kernelspec": {
   "display_name": "Python 3",
   "language": "python",
   "name": "python3"
  },
  "language_info": {
   "codemirror_mode": {
    "name": "ipython",
    "version": 3
   },
   "file_extension": ".py",
   "mimetype": "text/x-python",
   "name": "python",
   "nbconvert_exporter": "python",
   "pygments_lexer": "ipython3",
   "version": "3.8.8"
  }
 },
 "nbformat": 4,
 "nbformat_minor": 5
}
