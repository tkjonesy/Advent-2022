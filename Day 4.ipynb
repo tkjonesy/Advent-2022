{
 "cells": [
  {
   "cell_type": "code",
   "execution_count": 36,
   "id": "2dea0f77",
   "metadata": {},
   "outputs": [],
   "source": [
    "file = open('input4.txt', 'r')\n",
    "lines = file.readlines()"
   ]
  },
  {
   "cell_type": "code",
   "execution_count": 14,
   "id": "a408c48d",
   "metadata": {},
   "outputs": [
    {
     "name": "stdout",
     "output_type": "stream",
     "text": [
      "513\n"
     ]
    }
   ],
   "source": [
    "total = 0\n",
    "\n",
    "for line in lines:\n",
    "    line = line.replace('\\n', '')\n",
    "    ranges = line.split(',')\n",
    "    rng1 = ranges[0].split('-')\n",
    "    rng2 = ranges[-1].split('-')\n",
    "    \n",
    "    if int(rng1[0]) >= int(rng2[0]) and int(rng1[-1]) <= int(rng2[-1]):\n",
    "        total += 1\n",
    "    elif int(rng2[0]) >= int(rng1[0]) and int(rng2[-1]) <= int(rng1[-1]):\n",
    "        total += 1\n",
    "    \n",
    "print(total)"
   ]
  },
  {
   "cell_type": "code",
   "execution_count": 37,
   "id": "a3e33290",
   "metadata": {},
   "outputs": [
    {
     "name": "stdout",
     "output_type": "stream",
     "text": [
      "936\n"
     ]
    }
   ],
   "source": [
    "total = 0\n",
    "\n",
    "for line in lines:\n",
    "    line = line.replace('\\n', '')\n",
    "    ranges = line.split(',')\n",
    "    rng1 = ranges[0].split('-')\n",
    "    rng2 = ranges[-1].split('-')\n",
    "    \n",
    "    if int(rng1[-1]) >= int(rng2[0]) and int(rng1[0]) <= int(rng2[-1]):\n",
    "        total += 1\n",
    "    elif int(rng2[0]) <= int(rng1[-1]) <= int(rng2[0]):\n",
    "        total += 1\n",
    "    \n",
    "print(total)"
   ]
  }
 ],
 "metadata": {
  "kernelspec": {
   "display_name": "Python 3",
   "language": "python",
   "name": "python3"
  },
  "language_info": {
   "codemirror_mode": {
    "name": "ipython",
    "version": 3
   },
   "file_extension": ".py",
   "mimetype": "text/x-python",
   "name": "python",
   "nbconvert_exporter": "python",
   "pygments_lexer": "ipython3",
   "version": "3.8.8"
  }
 },
 "nbformat": 4,
 "nbformat_minor": 5
}
