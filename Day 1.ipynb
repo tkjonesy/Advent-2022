{
 "cells": [
  {
   "cell_type": "code",
   "execution_count": 31,
   "id": "6b0c4946",
   "metadata": {},
   "outputs": [],
   "source": [
    "file = open('input1.txt', 'r')\n",
    "lines = file.readlines()"
   ]
  },
  {
   "cell_type": "code",
   "execution_count": 32,
   "id": "332b3c8e",
   "metadata": {},
   "outputs": [],
   "source": [
    "totals = []\n",
    "current = 0\n",
    "for line in lines:\n",
    "    if line == '\\n':\n",
    "        totals.append(current)\n",
    "        current = 0\n",
    "        continue\n",
    "    else:\n",
    "        number = int(line.replace('/n', ''))\n",
    "        current += number\n",
    "        "
   ]
  },
  {
   "cell_type": "code",
   "execution_count": 34,
   "id": "93821e3d",
   "metadata": {},
   "outputs": [
    {
     "name": "stdout",
     "output_type": "stream",
     "text": [
      "72017\n"
     ]
    }
   ],
   "source": [
    "sorted_totals = sorted(totals)\n",
    "top = sorted_totals[-1]\n",
    "print(top)"
   ]
  },
  {
   "cell_type": "code",
   "execution_count": 30,
   "id": "49c3a9f0",
   "metadata": {},
   "outputs": [
    {
     "name": "stdout",
     "output_type": "stream",
     "text": [
      "212520\n"
     ]
    }
   ],
   "source": [
    "top3 = sorted_totals[-3] + sorted_totals[-2] + sorted_totals[-1]\n",
    "print(top3)"
   ]
  }
 ],
 "metadata": {
  "kernelspec": {
   "display_name": "Python 3",
   "language": "python",
   "name": "python3"
  },
  "language_info": {
   "codemirror_mode": {
    "name": "ipython",
    "version": 3
   },
   "file_extension": ".py",
   "mimetype": "text/x-python",
   "name": "python",
   "nbconvert_exporter": "python",
   "pygments_lexer": "ipython3",
   "version": "3.8.8"
  }
 },
 "nbformat": 4,
 "nbformat_minor": 5
}
