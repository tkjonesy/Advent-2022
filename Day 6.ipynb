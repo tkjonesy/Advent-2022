{
 "cells": [
  {
   "cell_type": "code",
   "execution_count": 67,
   "id": "3e3a0633",
   "metadata": {},
   "outputs": [],
   "source": [
    "file = open('input6.txt', 'r')\n",
    "lines = file.read()"
   ]
  },
  {
   "cell_type": "code",
   "execution_count": 68,
   "id": "6afce02a",
   "metadata": {},
   "outputs": [],
   "source": [
    "for i, char in enumerate(lines):\n",
    "    code = set()\n",
    "    \n",
    "    for x in range(14):\n",
    "        code.add(lines[i + x])\n",
    "    \n",
    "    if len(code) == 14:\n",
    "        solution = i + 14\n",
    "        break"
   ]
  },
  {
   "cell_type": "code",
   "execution_count": 69,
   "id": "a5dfd65c",
   "metadata": {},
   "outputs": [
    {
     "name": "stdout",
     "output_type": "stream",
     "text": [
      "2665\n"
     ]
    }
   ],
   "source": [
    "print(solution)"
   ]
  }
 ],
 "metadata": {
  "kernelspec": {
   "display_name": "Python 3",
   "language": "python",
   "name": "python3"
  },
  "language_info": {
   "codemirror_mode": {
    "name": "ipython",
    "version": 3
   },
   "file_extension": ".py",
   "mimetype": "text/x-python",
   "name": "python",
   "nbconvert_exporter": "python",
   "pygments_lexer": "ipython3",
   "version": "3.8.8"
  }
 },
 "nbformat": 4,
 "nbformat_minor": 5
}
